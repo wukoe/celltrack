{
 "cells": [
  {
   "cell_type": "code",
   "execution_count": 2,
   "metadata": {},
   "outputs": [
    {
     "name": "stderr",
     "output_type": "stream",
     "text": [
      "/home/wb/apps/miniconda3/lib/python3.8/site-packages/tqdm/auto.py:21: TqdmWarning: IProgress not found. Please update jupyter and ipywidgets. See https://ipywidgets.readthedocs.io/en/stable/user_install.html\n",
      "  from .autonotebook import tqdm as notebook_tqdm\n"
     ]
    }
   ],
   "source": [
    "'''\n",
    "针对单个帧的mask的改善的处理流程。\n",
    "'''\n",
    "import os,glob\n",
    "from wbtool import file_misc as fm\n",
    "from wbtool.show import wshow,wplot\n",
    "import numpy as np\n",
    "from importlib import reload\n",
    "\n",
    "cell_mask_dir = '/home/wb/samba_dir/cells_brightfield/process/lacss_point_gfp_d_e60000/' \n",
    "nuclear_mask_dir = '/home/wb/samba_dir/cells_brightfield/process/e6000_segs_cyto/' \n",
    "output_dir = '/home/wb/samba_dir/cells_brightfield/process/lacss_point_gfp_d_e60000_processed/' \n",
    "\n",
    "import skimage.morphology as skmorph\n",
    "# from scipy import ndimage\n",
    "# from skimage import measure\n",
    "from onevision import morph_data, morphology\n",
    "import aux\n",
    "import proc_data\n"
   ]
  },
  {
   "cell_type": "code",
   "execution_count": 3,
   "metadata": {},
   "outputs": [],
   "source": [
    "# bad cases.\n",
    "# xa = fm.imread(os.path.join(data_dir, 'D1ROI1_02_3_1_GFP_001_ne4c.png'))\n",
    "# print(xa.shape)\n",
    "# print(xa.min(), xa.max())\n",
    "# print(xa.dtype)\n",
    "\n",
    "x1 = xa==23 #hole\n",
    "x2 = xa==28 #side\n",
    "x3 = xa==34 #split\n",
    "x4 = xa==53 #half\n",
    "x5 = xa==74 #rough\n",
    "x6 = xa==80 #half\n",
    "\n",
    "# wshow(xa==80) \n",
    "\n",
    "import skimage.morphology as skmorph\n",
    "\n",
    "a = skmorph.convex_hull_image(x1)"
   ]
  },
  {
   "cell_type": "code",
   "execution_count": null,
   "metadata": {},
   "outputs": [],
   "source": [
    "# batch process\n",
    "# reload(aux)\n",
    "\n",
    "cell_mask_dir = '/home/wb/samba_dir/cells_brightfield/process/gfp_ab_no_bv2_ne4c_e30000_dapi_segs_cyto3'\n",
    "\n",
    "flist = glob.glob(os.path.join(cell_mask_dir, '*.png'))\n",
    "# flist = ['/home/wb/samba_dir/cells_brightfield/process/lacss_point_gfp_d_e60000/D4ROI13_02_3_1_GFP_001.png']\n",
    "output_dir = '/home/wb/samba_dir/cells_brightfield/process/temp/' \n",
    "save_npy = True\n",
    "is_do_nuc = False\n",
    "\n",
    "print('get {} files'.format(len(flist)))\n",
    "for file in flist:\n",
    "    fn = os.path.basename(file)\n",
    "    print('doing', fn)\n",
    "\n",
    "    xa = fm.imread(file)\n",
    "        \n",
    "    try: \n",
    "        C = morph_data.IMbind(xa, 'map')\n",
    "        C = aux.fix_cell_mask(C, True, is_do_nuc, fn, nuclear_mask_dir)\n",
    "    except:\n",
    "        print('error encountered')\n",
    "        continue\n",
    "\n",
    "    #=== save\n",
    "    # fn_out = fn+'_processed_GFP'\n",
    "    # if is_do_nuc and mark == 'ne4c':\n",
    "    #     fn_out += 'ne4c'\n",
    "    fn_out = fn.rsplit('.', 1)[0]\n",
    "\n",
    "    if save_npy:\n",
    "        _, temp = morph_data.imbind_to_masks(C)\n",
    "        np.save(os.path.join(output_dir, fn_out), temp)\n",
    "    proc_data.save_prediction(morph_data.imbind_to_map(C), output_dir, fn_out+'.png')\n",
    "\n",
    "    # d = morph_data.imbind_to_map(C)\n",
    "    # proc_data.save_prediction(d, output_dir, fn)\n",
    "    print('done')\n",
    "\n"
   ]
  }
 ],
 "metadata": {
  "kernelspec": {
   "display_name": "base",
   "language": "python",
   "name": "python3"
  },
  "language_info": {
   "codemirror_mode": {
    "name": "ipython",
    "version": 3
   },
   "file_extension": ".py",
   "mimetype": "text/x-python",
   "name": "python",
   "nbconvert_exporter": "python",
   "pygments_lexer": "ipython3",
   "version": "3.8.18"
  }
 },
 "nbformat": 4,
 "nbformat_minor": 2
}
