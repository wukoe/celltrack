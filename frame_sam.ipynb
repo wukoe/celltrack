{
 "cells": [
  {
   "cell_type": "code",
   "execution_count": 2,
   "metadata": {},
   "outputs": [],
   "source": [
    "import pandas as pd\n",
    "from wbtool import file_misc as fm\n",
    "from wbtool import use_models\n",
    "import numpy as np\n",
    "\n",
    "uselabel = True\n",
    "\n",
    "if uselabel:\n",
    "    lbdata = pd.read_csv('/home/wb/samba_dir/cells_brightfield/leadingcell-WB-entirespan/Results_B1ROI1.csv')\n",
    "    SA = use_models.cv.sam_agent('prompt')\n",
    "else:\n",
    "    SA = use_models.cv.sam_agent('auto')"
   ]
  },
  {
   "cell_type": "code",
   "execution_count": null,
   "metadata": {},
   "outputs": [],
   "source": [
    "import matplotlib.pyplot as plt\n",
    "import proc_data\n",
    "\n",
    "frame = 0\n",
    "# img = fm.imgtiff_read('/home/wb/working/celltrack/A4ROI1.tif', frame)\n",
    "img = np.load('/home/wb/samba_dir/cells_brightfield/leadingcell-WB-entirespan/B1ROI1.npy')[frame]\n",
    "img = proc_data.value_modify(img)\n",
    "\n",
    "if uselabel:\n",
    "    lb = lbdata[lbdata['Slice']==(frame+1)]  # use frame\n",
    "\n",
    "    ax=plt.gca()\n",
    "    ax.imshow(img)\n",
    "    ax.scatter(lb['X'], lb['Y'], color='red', marker='*', s=10)\n",
    "    plt.show()"
   ]
  },
  {
   "cell_type": "code",
   "execution_count": 5,
   "metadata": {},
   "outputs": [],
   "source": [
    "if uselabel:\n",
    "    point_prompt = lb[['X','Y']]\n",
    "    point_prompt = point_prompt.to_numpy()\n",
    "    # print(point_prompt)\n",
    "    # print(img.shape)\n",
    "    masks = SA.infer(img, point_prompt)\n",
    "else:\n",
    "    masks = SA.infer(img)"
   ]
  },
  {
   "cell_type": "code",
   "execution_count": null,
   "metadata": {},
   "outputs": [],
   "source": [
    "from wbtool import show\n",
    "\n",
    "print(len(point_prompt))\n",
    "print(point_prompt)\n",
    "\n",
    "# print(masks[10].keys())\n",
    "# show.wshow(masks[100]['segmentation'])\n",
    "# show.wshow(masks[18]['segmentation'])"
   ]
  },
  {
   "cell_type": "code",
   "execution_count": null,
   "metadata": {},
   "outputs": [],
   "source": [
    "from wbtool import show\n",
    "\n",
    "print(len(masks))\n",
    "if uselabel:\n",
    "    tp = masks\n",
    "else:\n",
    "    tp = [it['segmentation'] for it in masks]\n",
    "    tp = tp[1:]\n",
    "\n",
    "# filter\n",
    "ma = tp.sum(1).sum(1)\n",
    "imga = masks.shape[1]*masks.shape[2]\n",
    "mar = ma/imga\n",
    "I = mar<0.01\n",
    "tp = tp[I]\n",
    "print(len(tp))\n",
    "print(ma)\n",
    "ma.sort()\n",
    "print(ma)\n",
    "a = show.overlay_mask(img, tp)\n",
    "show.wshow(a)\n",
    "# np.save('/home/wb/working/mask_label.npy', masks)"
   ]
  }
 ],
 "metadata": {
  "kernelspec": {
   "display_name": "base",
   "language": "python",
   "name": "python3"
  },
  "language_info": {
   "codemirror_mode": {
    "name": "ipython",
    "version": 3
   },
   "file_extension": ".py",
   "mimetype": "text/x-python",
   "name": "python",
   "nbconvert_exporter": "python",
   "pygments_lexer": "ipython3",
   "version": "3.8.18"
  }
 },
 "nbformat": 4,
 "nbformat_minor": 2
}
