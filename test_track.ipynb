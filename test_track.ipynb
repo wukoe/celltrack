{
 "cells": [
  {
   "cell_type": "code",
   "execution_count": 9,
   "metadata": {},
   "outputs": [],
   "source": [
    "# filter\n",
    "import os\n",
    "import numpy as np\n",
    "from wbtool import show\n",
    "from wbtool.show import wshow\n",
    "from wbtool import file_misc as fm\n",
    "import matplotlib.pyplot as plt\n",
    "import importlib\n",
    "import proc_data,aux\n",
    "\n",
    "vid = np.load('/home/wb/samba_dir/cells_brightfield/single-cell-movement-for-machine-learning/A549/0/A4ROI1.npy')\n",
    "# vid = vid[:7]\n",
    "output_dir = '/home/wb/samba_dir/indev/results'\n",
    "tms = fm.pload(os.path.join(output_dir,'../tms2.pk'))\n",
    "sms = fm.pload(os.path.join(output_dir,'../sms2.pk'))\n",
    "\n",
    "segtracker_args = {\n",
    "    'sam_gap': 1, # the interval to run sam to segment new objects\n",
    "    'min_area': 20, # minimal mask area to add a new mask as a new object\n",
    "    'max_obj_num': 255, # maximal object number to track in a video\n",
    "    'min_new_obj_iou': 0.8, # the area of a new object in the background should > 80% \n",
    "    'new_replace_iou_min': 0.5,\n",
    "    'remain_remove_max':0.4,\n",
    "    'min_keep_area_ratio':0.0001\n",
    "}\n"
   ]
  },
  {
   "cell_type": "code",
   "execution_count": 10,
   "metadata": {},
   "outputs": [
    {
     "name": "stdout",
     "output_type": "stream",
     "text": [
      "overlayed frame 30\r"
     ]
    }
   ],
   "source": [
    "# from skimage import morphology\n",
    "from onevision import morphology as ovmorph\n",
    "import proc_data\n",
    "# importlib.reload(aux)\n",
    "# importlib.reload(ovmorph)\n",
    "\n",
    "\n",
    "fid = 1\n",
    "# track_mask=tms[fid]\n",
    "# seg_mask=sms[fid]\n",
    "oid = 36\n",
    "pm = proc_data.overlay_all(vid, [it[36] for it in sms])\n",
    "proc_data.all2imgfile(pm, 'o36_')"
   ]
  },
  {
   "cell_type": "code",
   "execution_count": 15,
   "metadata": {},
   "outputs": [],
   "source": [
    "# importlib.reload(show)\n"
   ]
  }
 ],
 "metadata": {
  "kernelspec": {
   "display_name": "base",
   "language": "python",
   "name": "python3"
  },
  "language_info": {
   "codemirror_mode": {
    "name": "ipython",
    "version": 3
   },
   "file_extension": ".py",
   "mimetype": "text/x-python",
   "name": "python",
   "nbconvert_exporter": "python",
   "pygments_lexer": "ipython3",
   "version": "3.8.18"
  }
 },
 "nbformat": 4,
 "nbformat_minor": 2
}
